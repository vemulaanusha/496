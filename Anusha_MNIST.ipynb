{
  "nbformat": 4,
  "nbformat_minor": 0,
  "metadata": {
    "colab": {
      "provenance": [],
      "authorship_tag": "ABX9TyNAm6KmZDikDa/DtVD/OOYm",
      "include_colab_link": true
    },
    "kernelspec": {
      "name": "python3",
      "display_name": "Python 3"
    },
    "language_info": {
      "name": "python"
    }
  },
  "cells": [
    {
      "cell_type": "markdown",
      "metadata": {
        "id": "view-in-github",
        "colab_type": "text"
      },
      "source": [
        "<a href=\"https://colab.research.google.com/github/vemulaanusha/496/blob/main/Anusha_MNIST.ipynb\" target=\"_parent\"><img src=\"https://colab.research.google.com/assets/colab-badge.svg\" alt=\"Open In Colab\"/></a>"
      ]
    },
    {
      "cell_type": "code",
      "execution_count": null,
      "metadata": {
        "id": "KBVwjqpaMEt_"
      },
      "outputs": [],
      "source": [
        "from __future__ import absolute_import, division, print_function, unicode_literals"
      ]
    },
    {
      "cell_type": "code",
      "source": [
        "import tensorflow as tf\n",
        "from tensorflow import keras\n",
        "import numpy as np\n",
        "import matplotlib.pyplot as plt"
      ],
      "metadata": {
        "id": "r2ToNgmoMnwj"
      },
      "execution_count": null,
      "outputs": []
    },
    {
      "cell_type": "code",
      "source": [
        "print(tf.__version__)"
      ],
      "metadata": {
        "colab": {
          "base_uri": "https://localhost:8080/"
        },
        "id": "c9nU-BWZM45E",
        "outputId": "cfaa0288-2c82-4ab6-c134-cc8d53f30490"
      },
      "execution_count": null,
      "outputs": [
        {
          "output_type": "stream",
          "name": "stdout",
          "text": [
            "2.12.0\n"
          ]
        }
      ]
    },
    {
      "cell_type": "code",
      "source": [
        "fashion_mnist=keras.datasets.fashion_mnist\n",
        "(train_images,train_labels),(test_images,test_labels)=fashion_mnist.load_data()"
      ],
      "metadata": {
        "id": "IA_2oKyKNOcS"
      },
      "execution_count": null,
      "outputs": []
    },
    {
      "cell_type": "code",
      "source": [
        "class_names=['T-shirt/top', 'Trouser','Pullover','Dress','Coat', 'Sandal', 'Shirt', 'Sneaker','Bag','Ankel boot']"
      ],
      "metadata": {
        "id": "4OCQOLoRN0ZV"
      },
      "execution_count": null,
      "outputs": []
    },
    {
      "cell_type": "code",
      "source": [
        "print('size of the image train dataset:',train_images.shape)\n",
        "print('length of the labels:', len(train_labels))\n",
        "print('these are labels:',train_labels)\n",
        "print('size of the test dataset:', test_images.shape)\n",
        "print('length of the labels for test data:',len(test_labels))\n",
        "\n"
      ],
      "metadata": {
        "colab": {
          "base_uri": "https://localhost:8080/"
        },
        "id": "dF-6txbWO8MH",
        "outputId": "1696eb82-caff-47f1-9586-6cb4d304a471"
      },
      "execution_count": null,
      "outputs": [
        {
          "output_type": "stream",
          "name": "stdout",
          "text": [
            "size of the image train dataset: (60000, 28, 28)\n",
            "length of the labels: 60000\n",
            "these are labels: [9 0 0 ... 3 0 5]\n",
            "size of the test dataset: (10000, 28, 28)\n",
            "length of the labels for test data: 10000\n"
          ]
        }
      ]
    },
    {
      "cell_type": "code",
      "source": [
        "plt.figure()\n",
        "plt.imshow(train_images[13])\n",
        "plt.colorbar()\n",
        "plt.grid(False)\n",
        "print(train_labels[13])\n",
        "plt.show()\n",
        "train_images=train_images / 255.0\n",
        "test_images=test_images / 255.0\n",
        "plt.figure()\n",
        "plt.imshow(train_images[13],cmap=plt.cm.binary)\n",
        "plt.grid(False)\n",
        "plt.show()"
      ],
      "metadata": {
        "colab": {
          "base_uri": "https://localhost:8080/",
          "height": 876
        },
        "id": "xmmn7DRRQVwn",
        "outputId": "dcbaf3c8-9ff3-4618-99c4-29970e53dde9"
      },
      "execution_count": null,
      "outputs": [
        {
          "output_type": "stream",
          "name": "stdout",
          "text": [
            "5\n"
          ]
        },
        {
          "output_type": "display_data",
          "data": {
            "text/plain": [
              "<Figure size 640x480 with 2 Axes>"
            ],
            "image/png": "[encoded data removed]"
          },
          "metadata": {}
        },
        {
          "output_type": "display_data",
          "data": {
            "text/plain": [
              "<Figure size 640x480 with 1 Axes>"
            ],
            "image/png": "[encoded data removed]"
          },
          "metadata": {}
        }
      ]
    },
    {
      "cell_type": "code",
      "source": [
        "from keras.layers import Dense, Flatten\n",
        "myModel=keras.Sequential([keras.layers.Flatten(input_shape=(28,28)),\n",
        "                          keras.layers.Dense(128,activation='relu'),\n",
        "                          keras.layers.Dense(10,activation='softmax')\n",
        "])\n",
        "myModel.compile(optimizer='adam',loss='sparse_categorical_crossentropy', metrics=['accuracy'])\n",
        "myModel.fit(train_images, train_labels, epochs=10)\n",
        "\n",
        "test_loss, test_acc=myModel.evaluate(test_images, test_labels, verbose=2)\n",
        "print('\\nTest accuracy:', test_acc)"
      ],
      "metadata": {
        "colab": {
          "base_uri": "https://localhost:8080/"
        },
        "id": "J9y-t23RU4my",
        "outputId": "3f34ed95-75df-4f88-950a-9b53e0f7180f"
      },
      "execution_count": null,
      "outputs": [
        {
          "output_type": "stream",
          "name": "stdout",
          "text": [
            "Epoch 1/10\n",
            "1875/1875 [==============================] - 18s 9ms/step - loss: 2.3028 - accuracy: 0.0989\n",
            "Epoch 2/10\n",
            "1875/1875 [==============================] - 16s 9ms/step - loss: 2.3028 - accuracy: 0.0980\n",
            "Epoch 3/10\n",
            "1875/1875 [==============================] - 19s 10ms/step - loss: 2.3028 - accuracy: 0.0986\n",
            "Epoch 4/10\n",
            "1875/1875 [==============================] - 19s 10ms/step - loss: 2.3028 - accuracy: 0.0979\n",
            "Epoch 5/10\n",
            "1875/1875 [==============================] - 21s 11ms/step - loss: 2.3027 - accuracy: 0.1004\n",
            "Epoch 6/10\n",
            "1875/1875 [==============================] - 18s 10ms/step - loss: 2.3028 - accuracy: 0.0998\n",
            "Epoch 7/10\n",
            "1875/1875 [==============================] - 19s 10ms/step - loss: 2.3028 - accuracy: 0.0971\n",
            "Epoch 8/10\n",
            "1875/1875 [==============================] - 18s 10ms/step - loss: 2.3028 - accuracy: 0.0995\n",
            "Epoch 9/10\n",
            "1875/1875 [==============================] - 19s 10ms/step - loss: 2.3027 - accuracy: 0.0993\n",
            "Epoch 10/10\n",
            "1875/1875 [==============================] - 22s 12ms/step - loss: 2.3028 - accuracy: 0.0987\n",
            "313/313 - 1s - loss: 2.3026 - accuracy: 0.1000 - 698ms/epoch - 2ms/step\n",
            "\n",
            "Test accuracy: 0.10000000149011612\n"
          ]
        }
      ]
    },
    {
      "cell_type": "code",
      "source": [
        "predictions=myModel.predict(test_images)\n",
        "np.argmax(predictions[0])\n",
        "print(test_labels[0])"
      ],
      "metadata": {
        "colab": {
          "base_uri": "https://localhost:8080/"
        },
        "id": "Vp0gG8k4awZE",
        "outputId": "54f219c9-36f5-4bf8-8974-82ec285df69b"
      },
      "execution_count": null,
      "outputs": [
        {
          "output_type": "stream",
          "name": "stdout",
          "text": [
            "313/313 [==============================] - 1s 4ms/step\n",
            "9\n"
          ]
        }
      ]
    }
  ]
}