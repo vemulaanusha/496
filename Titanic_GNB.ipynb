{
  "nbformat": 4,
  "nbformat_minor": 0,
  "metadata": {
    "colab": {
      "provenance": [],
      "mount_file_id": "1cybjN8V3uFtD5RrA58nWQm86XnoysCYQ",
      "authorship_tag": "ABX9TyM3Rb5yp0wRim6zvG/PUTrL",
      "include_colab_link": true
    },
    "kernelspec": {
      "name": "python3",
      "display_name": "Python 3"
    },
    "language_info": {
      "name": "python"
    }
  },
  "cells": [
    {
      "cell_type": "markdown",
      "metadata": {
        "id": "view-in-github",
        "colab_type": "text"
      },
      "source": [
        "<a href=\"https://colab.research.google.com/github/vemulaanusha/496/blob/main/Titanic_GNB.ipynb\" target=\"_parent\"><img src=\"https://colab.research.google.com/assets/colab-badge.svg\" alt=\"Open In Colab\"/></a>"
      ]
    },
    {
      "cell_type": "code",
      "execution_count": null,
      "metadata": {
        "id": "OPd8dkPTLzYP"
      },
      "outputs": [],
      "source": [
        "from sklearn import datasets"
      ]
    },
    {
      "cell_type": "code",
      "source": [
        "import pandas as pd"
      ],
      "metadata": {
        "id": "w0_CwQy7L58Z"
      },
      "execution_count": null,
      "outputs": []
    },
    {
      "cell_type": "code",
      "source": [
        "titanicTrain= pd.read_csv('/content/drive/MyDrive/496/cleanTitanicTrain.csv')\n",
        "titanicTest=pd.read_csv('/content/drive/MyDrive/496/cleanTitanicTest.csv')\n",
        "from sklearn.naive_bayes import GaussianNB"
      ],
      "metadata": {
        "id": "BXzudGOmL-FS"
      },
      "execution_count": null,
      "outputs": []
    },
    {
      "cell_type": "code",
      "source": [
        "predictorNames=[\"Pclass\", \"Sex\", \"Age\", \"SibSp\", \"Parch\", \"Fare\", \"Embarked\"]\n",
        "trainPredictors = titanicTrain[predictorNames]\n",
        "\n",
        "targetName=[\"Survived\"]\n",
        "trainTarget = titanicTrain[\"Survived\"]\n",
        "\n",
        "testPredictors= titanicTest[predictorNames]"
      ],
      "metadata": {
        "id": "8mi5-dYHMOv-"
      },
      "execution_count": null,
      "outputs": []
    },
    {
      "cell_type": "code",
      "source": [
        "from sklearn.naive_bayes import GaussianNB\n",
        "gnb = GaussianNB()\n",
        "gnb.fit(trainPredictors, trainTarget)\n",
        "y_pred =gnb.predict(testPredictors)"
      ],
      "metadata": {
        "id": "W6_K4iKePsTA"
      },
      "execution_count": null,
      "outputs": []
    },
    {
      "cell_type": "code",
      "source": [
        "testPIDs=titanicTest['PassengerId']\n",
        "mySubmission=pd.DataFrame({'PassengerID': testPIDs, 'Survived': y_pred})\n",
        "mySubmission.to_csv('/content/drive/MyDrive/496/GNBSubmision.csv', index=False)"
      ],
      "metadata": {
        "id": "EFUnk5OUP5Lz"
      },
      "execution_count": null,
      "outputs": []
    }
  ]
}